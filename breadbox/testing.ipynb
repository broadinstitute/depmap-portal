{
 "cells": [
  {
   "cell_type": "code",
   "execution_count": 53,
   "source": [
    "import io\n",
    "import os\n",
    "import tempfile\n",
    "import uuid\n",
    "\n",
    "import h5py\n",
    "import pandas as pd\n",
    "import numpy as np\n",
    "import requests\n"
   ],
   "outputs": [],
   "metadata": {}
  },
  {
   "cell_type": "code",
   "execution_count": 20,
   "source": [
    "BASE_URL = \"http://127.0.0.1:8000\"\n"
   ],
   "outputs": [],
   "metadata": {}
  },
  {
   "cell_type": "code",
   "execution_count": 21,
   "source": [
    "EXAMPLE_DF = pd.DataFrame(\n",
    "    {1: [1, 2, None], 2: [3, None, 4]}, index=[\"ACH-000014\", \"ACH-000052\", \"ACH-000279\"]\n",
    ")\n",
    "feature_DF = pd.DataFrame({\"id\": EXAMPLE_DF.columns, \"label\": [\"one\", \"two\"]})\n",
    "SAMPLE_DF = pd.DataFrame({\"id\": EXAMPLE_DF.index})\n"
   ],
   "outputs": [],
   "metadata": {}
  },
  {
   "cell_type": "code",
   "execution_count": 104,
   "source": [
    "def make_request(\n",
    "    method,\n",
    "    url,\n",
    "    data=None,\n",
    "    json=None,\n",
    "    files=None,\n",
    "    headers={\"X-Forwarded-Email\": \"breadbox-admin@broadinstitute.org\"},\n",
    "    stream=False,\n",
    "):\n",
    "    return requests.request(\n",
    "        method,\n",
    "        f\"{BASE_URL}{url}\",\n",
    "        headers=headers,\n",
    "        data=data,\n",
    "        json=json,\n",
    "        files=files,\n",
    "        stream=stream,\n",
    "    )\n",
    "\n",
    "\n",
    "def get_groups(**kwargs):\n",
    "    return make_request(\"GET\", \"/groups\", **kwargs)\n",
    "\n",
    "\n",
    "def get_datasets(**kwargs):\n",
    "    return make_request(\"GET\", \"/datasets\", **kwargs)\n",
    "\n",
    "\n",
    "def get_dataset(dataset_id: str, **kwargs):\n",
    "    return make_request(\"GET\", f\"/datasets/{dataset_id}\", **kwargs)\n",
    "\n",
    "\n",
    "def get_dataset_data(dataset_id: str, **kwargs):\n",
    "    return make_request(\"GET\", f\"/datasets/{dataset_id}/data\", stream=True, **kwargs)\n",
    "\n",
    "\n",
    "def get_dataset_entities(dataset_id: str, **kwargs):\n",
    "    return make_request(\"GET\", f\"/datasets/{dataset_id}/entities\", **kwargs)\n",
    "\n",
    "\n",
    "def get_dataset_samples(dataset_id: str, **kwargs):\n",
    "    return make_request(\"GET\", f\"/datasets/{dataset_id}/samples\", **kwargs)\n",
    "\n",
    "\n",
    "def post_example_datasets(group_id: str, **kwargs):\n",
    "    with tempfile.TemporaryDirectory() as d:\n",
    "        EXAMPLE_DF.to_csv(os.path.join(d, \"data.csv\"))\n",
    "        feature_DF.to_csv(os.path.join(d, \"entities.csv\"), index=False)\n",
    "        SAMPLE_DF.to_csv(os.path.join(d, \"samples.csv\"), index=False)\n",
    "\n",
    "        files = {\n",
    "            \"data_file\": (\n",
    "                \"data.csv\",\n",
    "                open(os.path.join(d, \"data.csv\"), \"rb\"),\n",
    "                \"text/csv\",\n",
    "            ),\n",
    "            \"feature_file\": (\n",
    "                \"feature.csv\",\n",
    "                open(os.path.join(d, \"entities.csv\"), \"rb\"),\n",
    "                \"text/csv\",\n",
    "            ),\n",
    "            \"sample_file\": (\n",
    "                \"sample.csv\",\n",
    "                open(os.path.join(d, \"samples.csv\"), \"rb\"),\n",
    "                \"text/csv\",\n",
    "            ),\n",
    "        }\n",
    "\n",
    "        dataset = dict(\n",
    "            name=\"d1\",\n",
    "            units=\"unit\",\n",
    "            feature_type=\"gene\",\n",
    "            sample_type=\"cell_line\",\n",
    "            group_id=group_id,\n",
    "        )\n",
    "\n",
    "        r = make_request(\"POST\", \"/datasets\", data=dataset, files=files, **kwargs)\n",
    "    return r\n"
   ],
   "outputs": [],
   "metadata": {}
  },
  {
   "cell_type": "code",
   "execution_count": 32,
   "source": [
    "def create_public_group():\n",
    "    group = make_request(\"POST\", \"/groups\", json={\"name\": \"PUBLIC\"}).json()\n",
    "    make_request(\n",
    "        \"POST\",\n",
    "        f\"/groups/{group['id']}\",\n",
    "        json={\"access_type\": \"read\", \"email\": \".*\", \"exact_match\": False},\n",
    "    )\n",
    "    return group[\"id\"]\n"
   ],
   "outputs": [],
   "metadata": {}
  },
  {
   "cell_type": "code",
   "execution_count": 33,
   "source": [
    "group_id = create_public_group()\n"
   ],
   "outputs": [],
   "metadata": {}
  },
  {
   "cell_type": "code",
   "execution_count": 35,
   "source": [
    "group_id\n"
   ],
   "outputs": [
    {
     "output_type": "execute_result",
     "data": {
      "text/plain": [
       "'100c3c10-a98e-42b0-b7de-f9dc8e33de4e'"
      ]
     },
     "metadata": {},
     "execution_count": 35
    }
   ],
   "metadata": {}
  },
  {
   "cell_type": "code",
   "execution_count": 36,
   "source": [
    "r = post_example_datasets(group_id)\n",
    "r.content\n"
   ],
   "outputs": [
    {
     "output_type": "execute_result",
     "data": {
      "text/plain": [
       "b'{\"id\":\"77f1452e-5776-46c2-b683-149781bc8569\",\"name\":\"d1\",\"units\":\"unit\",\"feature_type\":\"gene\",\"sample_type\":\"cell_line\",\"group_id\":\"100c3c10-a98e-42b0-b7de-f9dc8e33de4e\"}'"
      ]
     },
     "metadata": {},
     "execution_count": 36
    }
   ],
   "metadata": {}
  },
  {
   "cell_type": "code",
   "execution_count": 37,
   "source": [
    "dataset_submitted = r.json()\n",
    "dataset_submitted\n"
   ],
   "outputs": [
    {
     "output_type": "execute_result",
     "data": {
      "text/plain": [
       "{'id': '77f1452e-5776-46c2-b683-149781bc8569',\n",
       " 'name': 'd1',\n",
       " 'units': 'unit',\n",
       " 'feature_type': 'gene',\n",
       " 'sample_type': 'cell_line',\n",
       " 'group_id': '100c3c10-a98e-42b0-b7de-f9dc8e33de4e'}"
      ]
     },
     "metadata": {},
     "execution_count": 37
    }
   ],
   "metadata": {}
  },
  {
   "cell_type": "code",
   "execution_count": 39,
   "source": [
    "get_datasets().json()\n"
   ],
   "outputs": [
    {
     "output_type": "execute_result",
     "data": {
      "text/plain": [
       "[{'id': '77f1452e-5776-46c2-b683-149781bc8569',\n",
       "  'name': 'd1',\n",
       "  'units': 'unit',\n",
       "  'feature_type': 'gene',\n",
       "  'sample_type': 'cell_line',\n",
       "  'group_id': '100c3c10-a98e-42b0-b7de-f9dc8e33de4e'}]"
      ]
     },
     "metadata": {},
     "execution_count": 39
    }
   ],
   "metadata": {}
  },
  {
   "cell_type": "code",
   "execution_count": 44,
   "source": [
    "assert get_dataset(dataset_submitted[\"id\"]).json() == dataset_submitted\n",
    "assert get_dataset(uuid.uuid4()).status_code == 404\n"
   ],
   "outputs": [],
   "metadata": {}
  },
  {
   "cell_type": "code",
   "execution_count": 45,
   "source": [
    "r = get_dataset_samples(dataset_submitted[\"id\"])\n",
    "r.json()\n"
   ],
   "outputs": [
    {
     "output_type": "execute_result",
     "data": {
      "text/plain": [
       "{'id': ['ACH-000014', 'ACH-000052', 'ACH-000279']}"
      ]
     },
     "metadata": {},
     "execution_count": 45
    }
   ],
   "metadata": {}
  },
  {
   "cell_type": "code",
   "execution_count": 46,
   "source": [
    "r = get_dataset_entities(dataset_submitted[\"id\"])\n",
    "r.json()\n"
   ],
   "outputs": [
    {
     "output_type": "execute_result",
     "data": {
      "text/plain": [
       "{'id': [1, 2], 'label': ['one', 'two']}"
      ]
     },
     "metadata": {},
     "execution_count": 46
    }
   ],
   "metadata": {}
  },
  {
   "cell_type": "code",
   "execution_count": 101,
   "source": [
    "r = get_dataset_data(dataset_submitted[\"id\"])\n",
    "r\n"
   ],
   "outputs": [
    {
     "output_type": "execute_result",
     "data": {
      "text/plain": [
       "<Response [200]>"
      ]
     },
     "metadata": {},
     "execution_count": 101
    }
   ],
   "metadata": {}
  },
  {
   "cell_type": "code",
   "execution_count": 106,
   "source": [
    "r = get_datasets(headers=None)\n",
    "r.json()"
   ],
   "outputs": [
    {
     "output_type": "execute_result",
     "data": {
      "text/plain": [
       "[{'id': '77f1452e-5776-46c2-b683-149781bc8569',\n",
       "  'name': 'd1',\n",
       "  'units': 'unit',\n",
       "  'feature_type': 'gene',\n",
       "  'sample_type': 'cell_line',\n",
       "  'group_id': '100c3c10-a98e-42b0-b7de-f9dc8e33de4e'}]"
      ]
     },
     "metadata": {},
     "execution_count": 106
    }
   ],
   "metadata": {}
  },
  {
   "cell_type": "code",
   "execution_count": 130,
   "source": [
    "r = make_request(\"GET\", f\"/datasets/{dataset_submitted['id']}/entities/one/data?by_property=label\")\n",
    "r"
   ],
   "outputs": [
    {
     "output_type": "execute_result",
     "data": {
      "text/plain": [
       "<Response [200]>"
      ]
     },
     "metadata": {},
     "execution_count": 130
    }
   ],
   "metadata": {}
  },
  {
   "cell_type": "code",
   "execution_count": 132,
   "source": [
    "d = r.json()\n",
    "d"
   ],
   "outputs": [
    {
     "output_type": "execute_result",
     "data": {
      "text/plain": [
       "{'name': 1,\n",
       " 'index': ['ACH-000014', 'ACH-000052', 'ACH-000279'],\n",
       " 'data': [1.0, 2.0, None]}"
      ]
     },
     "metadata": {},
     "execution_count": 132
    }
   ],
   "metadata": {}
  },
  {
   "cell_type": "code",
   "execution_count": 138,
   "source": [
    "d2 = {'columns': [1], 'index': d['index'], 'data': [[1],[2],[None]]}\n",
    "pd.DataFrame(**d2)"
   ],
   "outputs": [
    {
     "output_type": "execute_result",
     "data": {
      "text/plain": [
       "1    1.0\n",
       "dtype: float64"
      ]
     },
     "metadata": {},
     "execution_count": 138
    }
   ],
   "metadata": {}
  }
 ],
 "metadata": {
  "orig_nbformat": 4,
  "language_info": {
   "name": "python",
   "version": "3.9.6",
   "mimetype": "text/x-python",
   "codemirror_mode": {
    "name": "ipython",
    "version": 3
   },
   "pygments_lexer": "ipython3",
   "nbconvert_exporter": "python",
   "file_extension": ".py"
  },
  "kernelspec": {
   "name": "python3",
   "display_name": "Python 3.9.6 64-bit ('breadbox-4ewU_NUm': pipenv)"
  },
  "interpreter": {
   "hash": "2d5844482c27735954bf2686eee3ea1a5951dddfc896ae3f666c92e5b7b232b7"
  }
 },
 "nbformat": 4,
 "nbformat_minor": 2
}